{
 "cells": [
  {
   "cell_type": "markdown",
   "metadata": {},
   "source": [
    "---\n",
    "### model example of U_Net module\n",
    "---"
   ]
  },
  {
   "cell_type": "markdown",
   "metadata": {},
   "source": [
    "##### 1. `gen_unet`\n",
    "- `gen_unet` function returns the deep learning model of U-Net architecture.\n",
    "\n",
    "- The architecture was referenced by [singing voice separation with deep u-net convolutional networks](https://ejhumphrey.com/assets/pdf/jansson2017singing.pdf).\n",
    "\n",
    "\n",
    "##### `gen_unet` arguments\n",
    "```python\n",
    "gen_unet(input_shape=(960, 832, 2), encode=5)\n",
    "```\n",
    "\n",
    "- The architecture we used, encodes the input image with 2 strides in convolution layer.\n",
    "- The `encode` argument specify how many times to encode.\n",
    "- Since we used 2 strides, the input shape must be the multiples of $2^{\\ \\textbf{encode} \\ + \\ 1}$.\n",
    "- If not, the concate layer will raise error like below.\n",
    "\n",
    "---\n",
    "```\n",
    "ValueError                                Traceback (most recent call last)\n",
    "Cell In[1], line 3\n",
    "      1 from U_Net import gen_unet\n",
    "----> 3 gen_unet(input_shape=(960, 830, 2), encode=5)\n",
    "```\n",
    "$$\\vdots$$\n",
    "```\n",
    "ValueError: A `Concatenate` layer requires inputs with matching shapes except for the concatenation axis. Received: input_shape=[(None, 480, 416, 32), (None, 480, 415, 32)]\n",
    "```\n",
    "---\n",
    "\n",
    "- For example, if `encode=5`, the `input_shape` must be multiples of $2^{\\ 5 \\ + \\  1} = 64$.\n",
    "- So we can set the input shapes like `(960, 832, 2)`, `(768, 512)`.\n",
    "\n",
    "$(960 \\ \\div 64 = 15), \\ (832 \\ \\div 64 = 13), \\ (768 \\ \\div 64 = 12), \\ (512 \\ \\div 64 = 8),$\n"
   ]
  },
  {
   "cell_type": "code",
   "execution_count": 1,
   "metadata": {},
   "outputs": [
    {
     "name": "stdout",
     "output_type": "stream",
     "text": [
      "Metal device set to: Apple M1 Pro\n",
      "\n",
      "systemMemory: 16.00 GB\n",
      "maxCacheSize: 5.33 GB\n",
      "\n",
      "Total params: 52,404,242\n"
     ]
    }
   ],
   "source": [
    "from U_Net import gen_unet\n",
    "\n",
    "model = gen_unet(input_shape=(960, 832, 2), encode=5)\n",
    "\n",
    "print(\"Total params: {:,}\".format(model.count_params()))"
   ]
  },
  {
   "cell_type": "markdown",
   "metadata": {},
   "source": [
    "You can see the architecture details running cell down below."
   ]
  },
  {
   "cell_type": "code",
   "execution_count": 2,
   "metadata": {},
   "outputs": [],
   "source": [
    "# from keras.utils import plot_model\n",
    "\n",
    "# model.summary()\n",
    "# plot_model(model, show_shapes=True)"
   ]
  },
  {
   "cell_type": "code",
   "execution_count": null,
   "metadata": {},
   "outputs": [],
   "source": []
  }
 ],
 "metadata": {
  "kernelspec": {
   "display_name": "Python 3",
   "language": "python",
   "name": "python3"
  },
  "language_info": {
   "codemirror_mode": {
    "name": "ipython",
    "version": 3
   },
   "file_extension": ".py",
   "mimetype": "text/x-python",
   "name": "python",
   "nbconvert_exporter": "python",
   "pygments_lexer": "ipython3",
   "version": "3.9.16"
  },
  "orig_nbformat": 4
 },
 "nbformat": 4,
 "nbformat_minor": 2
}
