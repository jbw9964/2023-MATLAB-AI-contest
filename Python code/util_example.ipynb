{
 "cells": [
  {
   "cell_type": "markdown",
   "metadata": {},
   "source": [
    "---\n",
    "### util example of U_Net module\n",
    "---"
   ]
  },
  {
   "cell_type": "markdown",
   "metadata": {},
   "source": [
    "##### 1. `complex_to_polar` and `polar_to_complex`\n",
    "- When we operate [STFT](https://en.wikipedia.org/wiki/Short-time_Fourier_transform) (Short Time Fourier Formation) to our music source, the returned value will be array with complex numbers.\n",
    "\n",
    "- Since the complex numbers are inappropriate to train model, we can re-value our complex numbers to [polar-coordinated value](https://en.wikipedia.org/wiki/Polar_coordinate_system), $r$ and $\\theta$, that represent the data in complex plane.\n",
    "\n",
    "- Inorder to check model's prediction as music source, we should inverse the polar-coordinated value to complex number. At this point, you can use `polar_to_complex` function."
   ]
  },
  {
   "cell_type": "code",
   "execution_count": 28,
   "metadata": {},
   "outputs": [
    {
     "name": "stdout",
     "output_type": "stream",
     "text": [
      "(2, 2)\n"
     ]
    },
    {
     "data": {
      "text/plain": [
       "array([[0.416+0.164j, 0.731+0.875j],\n",
       "       [0.623+0.902j, 0.905+0.483j]])"
      ]
     },
     "metadata": {},
     "output_type": "display_data"
    }
   ],
   "source": [
    "# import numpy to generate complex-valued array\n",
    "\n",
    "import numpy as np\n",
    "\n",
    "real_part = np.round(np.random.random((2, 2)), decimals=3)\n",
    "imag_part = np.round(np.random.random((2, 2)), decimals=3)\n",
    "complex_arr = real_part + imag_part * 1j\n",
    "\n",
    "print(complex_arr.shape)\n",
    "display(complex_arr)"
   ]
  },
  {
   "cell_type": "code",
   "execution_count": 29,
   "metadata": {},
   "outputs": [
    {
     "name": "stdout",
     "output_type": "stream",
     "text": [
      "(2, 2, 2)\n"
     ]
    },
    {
     "data": {
      "text/plain": [
       "array([[[0.44715993, 0.37552303],\n",
       "        [1.14016929, 0.87482279]],\n",
       "\n",
       "       [[1.09623583, 0.96634784],\n",
       "        [1.02582357, 0.49024404]]])"
      ]
     },
     "metadata": {},
     "output_type": "display_data"
    }
   ],
   "source": [
    "from U_Net.utils import complex_to_polar\n",
    "\n",
    "polar_arr = complex_to_polar((complex_arr))\n",
    "\n",
    "print(polar_arr.shape)\n",
    "display(polar_arr)"
   ]
  },
  {
   "cell_type": "markdown",
   "metadata": {},
   "source": [
    "The `complex_arr` with shape (2, 2) has been re-valued to `polar_arr`. The (..., 0) element represent the radius in complex plane, and (..., 1) element represent the radian angle."
   ]
  },
  {
   "cell_type": "code",
   "execution_count": 30,
   "metadata": {},
   "outputs": [],
   "source": [
    "r = polar_arr[..., 0]       # radius in complex plane\n",
    "theta = polar_arr[..., 1]   # radian angle in complex plane"
   ]
  },
  {
   "cell_type": "markdown",
   "metadata": {},
   "source": [
    "You can see `complex_to_polar` function works well."
   ]
  },
  {
   "cell_type": "code",
   "execution_count": 31,
   "metadata": {},
   "outputs": [
    {
     "name": "stdout",
     "output_type": "stream",
     "text": [
      "Same radius\n"
     ]
    },
    {
     "data": {
      "text/plain": [
       "array([[0.44715993, 1.14016929],\n",
       "       [1.09623583, 1.02582357]])"
      ]
     },
     "metadata": {},
     "output_type": "display_data"
    },
    {
     "data": {
      "text/plain": [
       "array([[0.44715993, 1.14016929],\n",
       "       [1.09623583, 1.02582357]])"
      ]
     },
     "metadata": {},
     "output_type": "display_data"
    },
    {
     "data": {
      "text/plain": [
       "array([[ True,  True],\n",
       "       [ True,  True]])"
      ]
     },
     "metadata": {},
     "output_type": "display_data"
    },
    {
     "name": "stdout",
     "output_type": "stream",
     "text": [
      "Same angle\n"
     ]
    },
    {
     "data": {
      "text/plain": [
       "array([[0.37552303, 0.87482279],\n",
       "       [0.96634784, 0.49024404]])"
      ]
     },
     "metadata": {},
     "output_type": "display_data"
    },
    {
     "data": {
      "text/plain": [
       "array([[0.37552303, 0.87482279],\n",
       "       [0.96634784, 0.49024404]])"
      ]
     },
     "metadata": {},
     "output_type": "display_data"
    },
    {
     "data": {
      "text/plain": [
       "array([[ True,  True],\n",
       "       [ True,  True]])"
      ]
     },
     "metadata": {},
     "output_type": "display_data"
    }
   ],
   "source": [
    "print(\"Same radius\")\n",
    "display(np.abs(complex_arr), r, np.isclose(np.abs(complex_arr), r))\n",
    "\n",
    "print(\"Same angle\")\n",
    "display(np.arctan(imag_part / real_part), theta, np.isclose(np.arctan(imag_part / real_part), theta))"
   ]
  },
  {
   "cell_type": "markdown",
   "metadata": {},
   "source": [
    "And you can see the output of `polar_to_complex` are same with `complex_arr`."
   ]
  },
  {
   "cell_type": "code",
   "execution_count": 32,
   "metadata": {},
   "outputs": [
    {
     "data": {
      "text/plain": [
       "array([[0.416+0.164j, 0.731+0.875j],\n",
       "       [0.623+0.902j, 0.905+0.483j]])"
      ]
     },
     "metadata": {},
     "output_type": "display_data"
    },
    {
     "data": {
      "text/plain": [
       "array([[0.416+0.164j, 0.731+0.875j],\n",
       "       [0.623+0.902j, 0.905+0.483j]])"
      ]
     },
     "metadata": {},
     "output_type": "display_data"
    },
    {
     "data": {
      "text/plain": [
       "array([[ True,  True],\n",
       "       [ True,  True]])"
      ]
     },
     "metadata": {},
     "output_type": "display_data"
    }
   ],
   "source": [
    "from U_Net.utils import polar_to_complex\n",
    "\n",
    "inverse = polar_to_complex(polar_arr)\n",
    "\n",
    "display(complex_arr, inverse, np.isclose(complex_arr, inverse))"
   ]
  },
  {
   "cell_type": "markdown",
   "metadata": {},
   "source": [
    "---"
   ]
  },
  {
   "cell_type": "markdown",
   "metadata": {},
   "source": [
    "##### 2. `gen_dataset`\n",
    "- In order to train model, we need large dataset. For our model, the training data should be 2 music source.\n",
    "\n",
    "- One contains musics and vocals, One only contains vocals. However, it is difficult to find proper dataset, specifically, the sync between vocal and muscis should be exact. Further more, the copyrights of muscis can be obstacle.\n",
    "\n",
    "- So we choosed to make our own datasets, using `gen_dataset`.\n",
    "\n",
    "- `gen_dataset` can merges the muscis and speech dataset. We used [non-copyright musics](https://www.ashamaluevmusic.com/no-copyright-music) and [Common voice dataset in kaggle](https://www.kaggle.com/datasets/mozillaorg/common-voice).\n",
    "\n",
    "- So we can make our own dataset, seperated by musics and vocals."
   ]
  },
  {
   "cell_type": "code",
   "execution_count": 1,
   "metadata": {},
   "outputs": [
    {
     "name": "stdout",
     "output_type": "stream",
     "text": [
      "Processing... [/] : [010/010]\t  Done\n"
     ]
    }
   ],
   "source": [
    "from U_Net.utils import gen_dataset\n",
    "\n",
    "target_dir = \"../Data/target_dir/\"      # directory that saves the training data\n",
    "music_dir = \"../Data/music_only/\"       # there are 10 muscis in sample\n",
    "voice_dir = \"../Data/voice_only/\"       # there are 50 voices in sample\n",
    "\n",
    "gen_dataset(\n",
    "    target_dir=target_dir, music_dir=music_dir, voice_dir=voice_dir,\n",
    "    voice_amp_ratio=0.6, train_test_split=0.4, random_state=None\n",
    ")"
   ]
  },
  {
   "cell_type": "markdown",
   "metadata": {},
   "source": [
    "##### - `gen_dataset` arguments\n",
    "```python\n",
    "gen_dataset(\n",
    "    target_dir=target_dir, music_dir=music_dir, voice_dir=voice_dir,\n",
    "    voice_amp_ratio=0.6, train_test_split=0.4, random_state=None\n",
    ")\n",
    "```\n",
    "- The `target_dir` is a path that generated datasets will be saved.\n",
    "- The `music_dir` is the path that every muscis files exists, and `voice_dir` so on.\n",
    "- `voice_amp_ratio` is a ratio to fit the amplitude of `voice data` with `music data`. If the `voice_amp_ratio=1.0`, the voice will be large as same as the music.\n",
    "- `train_test_split` is a ratio to split test dataset. If `train_test_split=None`, test dataset won't be generated.\n",
    "- `random_state` is a random state to shuffles the `voice data` in `voic_dir`. If `random_state=None`, it shuffles data without random state.\n",
    "- `random_state` uses `np.random.RandomState`.\n",
    "\n",
    "If you done correctly, `target_dir` will be look like this."
   ]
  },
  {
   "cell_type": "markdown",
   "metadata": {},
   "source": [
    "\n",
    "```zsh\n",
    "$ cd ../Data/target_dir && tree\n",
    ".\n",
    "├── test_data\n",
    "│   ├── merge_007.wav\n",
    "│   ├── merge_008.wav\n",
    "│   ├── merge_009.wav\n",
    "│   ├── merge_010.wav\n",
    "│   ├── music_007.wav\n",
    "│   ├── music_008.wav\n",
    "│   ├── music_009.wav\n",
    "│   ├── music_010.wav\n",
    "│   ├── voice_007.wav\n",
    "│   ├── voice_008.wav\n",
    "│   ├── voice_009.wav\n",
    "│   └── voice_010.wav\n",
    "└── train_data\n",
    "    ├── merge_001.wav\n",
    "    ├── merge_002.wav\n",
    "    ├── merge_003.wav\n",
    "    ├── merge_004.wav\n",
    "    ├── merge_005.wav\n",
    "    ├── merge_006.wav\n",
    "    ├── music_001.wav\n",
    "    ├── music_002.wav\n",
    "    ├── music_003.wav\n",
    "    ├── music_004.wav\n",
    "    ├── music_005.wav\n",
    "    ├── music_006.wav\n",
    "    ├── voice_001.wav\n",
    "    ├── voice_002.wav\n",
    "    ├── voice_003.wav\n",
    "    ├── voice_004.wav\n",
    "    ├── voice_005.wav\n",
    "    └── voice_006.wav\n",
    "\n",
    "3 directories, 30 files\n",
    "```"
   ]
  },
  {
   "cell_type": "code",
   "execution_count": null,
   "metadata": {},
   "outputs": [],
   "source": []
  }
 ],
 "metadata": {
  "kernelspec": {
   "display_name": "Python 3",
   "language": "python",
   "name": "python3"
  },
  "language_info": {
   "codemirror_mode": {
    "name": "ipython",
    "version": 3
   },
   "file_extension": ".py",
   "mimetype": "text/x-python",
   "name": "python",
   "nbconvert_exporter": "python",
   "pygments_lexer": "ipython3",
   "version": "3.9.16"
  },
  "orig_nbformat": 4
 },
 "nbformat": 4,
 "nbformat_minor": 2
}
