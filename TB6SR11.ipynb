{
 "cells": [
  {
   "cell_type": "code",
   "execution_count": null,
   "metadata": {},
   "outputs": [],
   "source": [
    "from global_utils.utils import gen_dataset\n",
    "\n",
    "music_path = \"./Data/music/music_only/\"\n",
    "voice_path = \"./Data/voice/voice_only/\"\n",
    "\n",
    "data_path = \"./Data/merge_sample/\"\n",
    "gen_dataset(\n",
    "    target_dir=data_path, music_dir=music_path, voice_dir=voice_path,\n",
    "    voice_amp_ratio=0.3, train_test_split=0.2\n",
    ")"
   ]
  },
  {
   "cell_type": "code",
   "execution_count": 1,
   "metadata": {},
   "outputs": [
    {
     "name": "stdout",
     "output_type": "stream",
     "text": [
      "(960, 832, 2) (960, 832, 2)\n",
      "80 20\n"
     ]
    }
   ],
   "source": [
    "from global_utils.utils import TrainGenerator, ValidGenerator\n",
    "\n",
    "train_path = \"./Data/merge_sample/train_data/\"\n",
    "valid_path = \"./Data/merge_sample/test_data/\"\n",
    "\n",
    "train_bulk_num = 6\n",
    "valid_bulk_num = 5\n",
    "train_generator = TrainGenerator(train_path, bulk_num=train_bulk_num, sample_dur=2, sample_rate=110_000)\n",
    "valid_generator = ValidGenerator(valid_path, bulk_num=valid_bulk_num, sample_dur=2, sample_rate=110_000)\n",
    "\n",
    "print(train_generator.input_shape, valid_generator.input_shape)\n",
    "print(len(train_generator._input_path), len(valid_generator._input_path))"
   ]
  },
  {
   "cell_type": "code",
   "execution_count": 2,
   "metadata": {},
   "outputs": [
    {
     "name": "stdout",
     "output_type": "stream",
     "text": [
      "Metal device set to: Apple M1 Pro\n",
      "\n",
      "systemMemory: 16.00 GB\n",
      "maxCacheSize: 5.33 GB\n",
      "\n",
      "Model: \"model\"\n",
      "__________________________________________________________________________________________________\n",
      " Layer (type)                   Output Shape         Param #     Connected to                     \n",
      "==================================================================================================\n",
      " input_1 (InputLayer)           [(None, 960, 832, 2  0           []                               \n",
      "                                )]                                                                \n",
      "                                                                                                  \n",
      " conv2d (Conv2D)                (None, 480, 416, 32  1632        ['input_1[0][0]']                \n",
      "                                )                                                                 \n",
      "                                                                                                  \n",
      " batch_normalization (BatchNorm  (None, 480, 416, 32  128        ['conv2d[0][0]']                 \n",
      " alization)                     )                                                                 \n",
      "                                                                                                  \n",
      " leaky_re_lu (LeakyReLU)        (None, 480, 416, 32  0           ['batch_normalization[0][0]']    \n",
      "                                )                                                                 \n",
      "                                                                                                  \n",
      " conv2d_1 (Conv2D)              (None, 240, 208, 64  51264       ['leaky_re_lu[0][0]']            \n",
      "                                )                                                                 \n",
      "                                                                                                  \n",
      " batch_normalization_1 (BatchNo  (None, 240, 208, 64  256        ['conv2d_1[0][0]']               \n",
      " rmalization)                   )                                                                 \n",
      "                                                                                                  \n",
      " leaky_re_lu_1 (LeakyReLU)      (None, 240, 208, 64  0           ['batch_normalization_1[0][0]']  \n",
      "                                )                                                                 \n",
      "                                                                                                  \n",
      " conv2d_2 (Conv2D)              (None, 120, 104, 12  204928      ['leaky_re_lu_1[0][0]']          \n",
      "                                8)                                                                \n",
      "                                                                                                  \n",
      " batch_normalization_2 (BatchNo  (None, 120, 104, 12  512        ['conv2d_2[0][0]']               \n",
      " rmalization)                   8)                                                                \n",
      "                                                                                                  \n",
      " leaky_re_lu_2 (LeakyReLU)      (None, 120, 104, 12  0           ['batch_normalization_2[0][0]']  \n",
      "                                8)                                                                \n",
      "                                                                                                  \n",
      " conv2d_3 (Conv2D)              (None, 60, 52, 256)  819456      ['leaky_re_lu_2[0][0]']          \n",
      "                                                                                                  \n",
      " batch_normalization_3 (BatchNo  (None, 60, 52, 256)  1024       ['conv2d_3[0][0]']               \n",
      " rmalization)                                                                                     \n",
      "                                                                                                  \n",
      " leaky_re_lu_3 (LeakyReLU)      (None, 60, 52, 256)  0           ['batch_normalization_3[0][0]']  \n",
      "                                                                                                  \n",
      " conv2d_4 (Conv2D)              (None, 30, 26, 512)  3277312     ['leaky_re_lu_3[0][0]']          \n",
      "                                                                                                  \n",
      " batch_normalization_4 (BatchNo  (None, 30, 26, 512)  2048       ['conv2d_4[0][0]']               \n",
      " rmalization)                                                                                     \n",
      "                                                                                                  \n",
      " leaky_re_lu_4 (LeakyReLU)      (None, 30, 26, 512)  0           ['batch_normalization_4[0][0]']  \n",
      "                                                                                                  \n",
      " conv2d_5 (Conv2D)              (None, 15, 13, 1024  13108224    ['leaky_re_lu_4[0][0]']          \n",
      "                                )                                                                 \n",
      "                                                                                                  \n",
      " leaky_re_lu_5 (LeakyReLU)      (None, 15, 13, 1024  0           ['conv2d_5[0][0]']               \n",
      "                                )                                                                 \n",
      "                                                                                                  \n",
      " conv2d_transpose (Conv2DTransp  (None, 30, 26, 512)  13107712   ['leaky_re_lu_5[0][0]']          \n",
      " ose)                                                                                             \n",
      "                                                                                                  \n",
      " concatenate (Concatenate)      (None, 30, 26, 1024  0           ['conv2d_transpose[0][0]',       \n",
      "                                )                                 'conv2d_4[0][0]']               \n",
      "                                                                                                  \n",
      " conv2d_6 (Conv2D)              (None, 30, 26, 512)  13107712    ['concatenate[0][0]']            \n",
      "                                                                                                  \n",
      " batch_normalization_5 (BatchNo  (None, 30, 26, 512)  2048       ['conv2d_6[0][0]']               \n",
      " rmalization)                                                                                     \n",
      "                                                                                                  \n",
      " re_lu (ReLU)                   (None, 30, 26, 512)  0           ['batch_normalization_5[0][0]']  \n",
      "                                                                                                  \n",
      " dropout (Dropout)              (None, 30, 26, 512)  0           ['re_lu[0][0]']                  \n",
      "                                                                                                  \n",
      " conv2d_transpose_1 (Conv2DTran  (None, 60, 52, 256)  3277056    ['dropout[0][0]']                \n",
      " spose)                                                                                           \n",
      "                                                                                                  \n",
      " concatenate_1 (Concatenate)    (None, 60, 52, 512)  0           ['conv2d_transpose_1[0][0]',     \n",
      "                                                                  'conv2d_3[0][0]']               \n",
      "                                                                                                  \n",
      " conv2d_7 (Conv2D)              (None, 60, 52, 256)  3277056     ['concatenate_1[0][0]']          \n",
      "                                                                                                  \n",
      " batch_normalization_6 (BatchNo  (None, 60, 52, 256)  1024       ['conv2d_7[0][0]']               \n",
      " rmalization)                                                                                     \n",
      "                                                                                                  \n",
      " re_lu_1 (ReLU)                 (None, 60, 52, 256)  0           ['batch_normalization_6[0][0]']  \n",
      "                                                                                                  \n",
      " dropout_1 (Dropout)            (None, 60, 52, 256)  0           ['re_lu_1[0][0]']                \n",
      "                                                                                                  \n",
      " conv2d_transpose_2 (Conv2DTran  (None, 120, 104, 12  819328     ['dropout_1[0][0]']              \n",
      " spose)                         8)                                                                \n",
      "                                                                                                  \n",
      " concatenate_2 (Concatenate)    (None, 120, 104, 25  0           ['conv2d_transpose_2[0][0]',     \n",
      "                                6)                                'conv2d_2[0][0]']               \n",
      "                                                                                                  \n",
      " conv2d_8 (Conv2D)              (None, 120, 104, 12  819328      ['concatenate_2[0][0]']          \n",
      "                                8)                                                                \n",
      "                                                                                                  \n",
      " batch_normalization_7 (BatchNo  (None, 120, 104, 12  512        ['conv2d_8[0][0]']               \n",
      " rmalization)                   8)                                                                \n",
      "                                                                                                  \n",
      " re_lu_2 (ReLU)                 (None, 120, 104, 12  0           ['batch_normalization_7[0][0]']  \n",
      "                                8)                                                                \n",
      "                                                                                                  \n",
      " dropout_2 (Dropout)            (None, 120, 104, 12  0           ['re_lu_2[0][0]']                \n",
      "                                8)                                                                \n",
      "                                                                                                  \n",
      " conv2d_transpose_3 (Conv2DTran  (None, 240, 208, 64  204864     ['dropout_2[0][0]']              \n",
      " spose)                         )                                                                 \n",
      "                                                                                                  \n",
      " concatenate_3 (Concatenate)    (None, 240, 208, 12  0           ['conv2d_transpose_3[0][0]',     \n",
      "                                8)                                'conv2d_1[0][0]']               \n",
      "                                                                                                  \n",
      " conv2d_9 (Conv2D)              (None, 240, 208, 64  204864      ['concatenate_3[0][0]']          \n",
      "                                )                                                                 \n",
      "                                                                                                  \n",
      " batch_normalization_8 (BatchNo  (None, 240, 208, 64  256        ['conv2d_9[0][0]']               \n",
      " rmalization)                   )                                                                 \n",
      "                                                                                                  \n",
      " re_lu_3 (ReLU)                 (None, 240, 208, 64  0           ['batch_normalization_8[0][0]']  \n",
      "                                )                                                                 \n",
      "                                                                                                  \n",
      " conv2d_transpose_4 (Conv2DTran  (None, 480, 416, 32  51232      ['re_lu_3[0][0]']                \n",
      " spose)                         )                                                                 \n",
      "                                                                                                  \n",
      " concatenate_4 (Concatenate)    (None, 480, 416, 64  0           ['conv2d_transpose_4[0][0]',     \n",
      "                                )                                 'conv2d[0][0]']                 \n",
      "                                                                                                  \n",
      " conv2d_10 (Conv2D)             (None, 480, 416, 32  51232       ['concatenate_4[0][0]']          \n",
      "                                )                                                                 \n",
      "                                                                                                  \n",
      " batch_normalization_9 (BatchNo  (None, 480, 416, 32  128        ['conv2d_10[0][0]']              \n",
      " rmalization)                   )                                                                 \n",
      "                                                                                                  \n",
      " re_lu_4 (ReLU)                 (None, 480, 416, 32  0           ['batch_normalization_9[0][0]']  \n",
      "                                )                                                                 \n",
      "                                                                                                  \n",
      " conv2d_transpose_5 (Conv2DTran  (None, 960, 832, 16  12816      ['re_lu_4[0][0]']                \n",
      " spose)                         )                                                                 \n",
      "                                                                                                  \n",
      " conv2d_transpose_6 (Conv2DTran  (None, 960, 832, 2)  290        ['conv2d_transpose_5[0][0]']     \n",
      " spose)                                                                                           \n",
      "                                                                                                  \n",
      " multiply (Multiply)            (None, 960, 832, 2)  0           ['input_1[0][0]',                \n",
      "                                                                  'conv2d_transpose_6[0][0]']     \n",
      "                                                                                                  \n",
      "==================================================================================================\n",
      "Total params: 52,404,242\n",
      "Trainable params: 52,400,274\n",
      "Non-trainable params: 3,968\n",
      "__________________________________________________________________________________________________\n"
     ]
    }
   ],
   "source": [
    "from global_utils.utils import gen_unet\n",
    "\n",
    "temp_model = gen_unet(train_generator.input_shape)\n",
    "temp_model.summary()"
   ]
  },
  {
   "cell_type": "code",
   "execution_count": 3,
   "metadata": {},
   "outputs": [
    {
     "name": "stdout",
     "output_type": "stream",
     "text": [
      "40 200\n"
     ]
    }
   ],
   "source": [
    "from keras.callbacks import EarlyStopping\n",
    "\n",
    "temp_model.compile(optimizer=\"adam\", loss=\"mae\", metrics=[\"mae\", \"mse\"])\n",
    "\n",
    "patience = int(len(train_generator._input_path) / train_bulk_num * 3)\n",
    "# patience = 2\n",
    "callback = EarlyStopping(patience=patience, verbose=True, restore_best_weights=True)\n",
    "\n",
    "print(patience, patience * 5)"
   ]
  },
  {
   "cell_type": "code",
   "execution_count": 4,
   "metadata": {},
   "outputs": [
    {
     "name": "stdout",
     "output_type": "stream",
     "text": [
      "Epoch 1/200\n"
     ]
    },
    {
     "name": "stderr",
     "output_type": "stream",
     "text": [
      "2023-07-26 23:14:28.368856: W tensorflow/tsl/platform/profile_utils/cpu_utils.cc:128] Failed to get CPU frequency: 0 Hz\n"
     ]
    },
    {
     "name": "stdout",
     "output_type": "stream",
     "text": [
      "  6/184 [..............................] - ETA: 4:40 - loss: 0.7799 - mae: 0.7799 - mse: 1.9225"
     ]
    }
   ],
   "source": [
    "model_path = \"./model_save/\"\n",
    "name = \"TB6SR11\"\n",
    "history = temp_model.fit(x=train_generator, epochs=patience * 5, validation_data=valid_generator)\n",
    "temp_model.save(model_path + name + \".h5\")"
   ]
  },
  {
   "cell_type": "code",
   "execution_count": null,
   "metadata": {},
   "outputs": [],
   "source": [
    "import pickle\n",
    "\n",
    "with open('./model_save/trainHistoryDict_' + name, 'wb') as file_pi:\n",
    "    pickle.dump(history.history, file_pi)\n"
   ]
  },
  {
   "cell_type": "code",
   "execution_count": null,
   "metadata": {},
   "outputs": [],
   "source": [
    "import pickle\n",
    "\n",
    "with open('./model_save/trainHistoryDict_' + name, 'rb') as file_pi:\n",
    "    train_history = pickle.load(file_pi)\n",
    "\n",
    "train_history.keys()"
   ]
  },
  {
   "cell_type": "code",
   "execution_count": null,
   "metadata": {},
   "outputs": [],
   "source": [
    "import matplotlib.pyplot as plt\n",
    "\n",
    "epoch = [i for i in range(len(train_history[\"loss\"]))]\n",
    "\n",
    "loss = train_history[\"loss\"]\n",
    "val_loss = train_history[\"val_loss\"]\n",
    "mse = train_history[\"mse\"]\n",
    "val_mse = train_history[\"val_mse\"]\n",
    "\n",
    "print(type(loss), type(val_loss), type(mse), type(val_mse))"
   ]
  },
  {
   "cell_type": "code",
   "execution_count": null,
   "metadata": {},
   "outputs": [],
   "source": [
    "plt.plot(epoch, loss, label=\"loss\")\n",
    "plt.plot(epoch, val_loss, label=\"val_loss\")\n",
    "plt.legend()\n",
    "plt.show()\n",
    "plt.plot(epoch, loss)\n",
    "plt.show()\n",
    "plt.plot(epoch, val_loss)\n",
    "plt.show()"
   ]
  },
  {
   "cell_type": "code",
   "execution_count": null,
   "metadata": {},
   "outputs": [],
   "source": [
    "plt.plot(epoch, mse, label=\"mse\")\n",
    "plt.plot(epoch, val_mse, label=\"val_mse\")\n",
    "plt.legend()\n",
    "plt.show()"
   ]
  },
  {
   "cell_type": "code",
   "execution_count": null,
   "metadata": {},
   "outputs": [],
   "source": []
  }
 ],
 "metadata": {
  "kernelspec": {
   "display_name": "tf_gpu",
   "language": "python",
   "name": "python3"
  },
  "language_info": {
   "codemirror_mode": {
    "name": "ipython",
    "version": 3
   },
   "file_extension": ".py",
   "mimetype": "text/x-python",
   "name": "python",
   "nbconvert_exporter": "python",
   "pygments_lexer": "ipython3",
   "version": "3.9.16"
  },
  "orig_nbformat": 4
 },
 "nbformat": 4,
 "nbformat_minor": 2
}
