{
 "cells": [
  {
   "cell_type": "code",
   "execution_count": 1,
   "metadata": {},
   "outputs": [
    {
     "name": "stdout",
     "output_type": "stream",
     "text": [
      "(960, 832, 2)\n",
      "Metal device set to: Apple M1 Pro\n",
      "\n",
      "systemMemory: 16.00 GB\n",
      "maxCacheSize: 5.33 GB\n",
      "\n",
      "(None, 960, 832, 2)\n"
     ]
    }
   ],
   "source": [
    "from U_Net.generators import TrainGenerator, ValidGenerator\n",
    "from U_Net import gen_unet\n",
    "\n",
    "train_path = \"./temp_path/data/train_data/\"\n",
    "valid_path = \"./temp_path/data/valid_data/\"\n",
    "\n",
    "train_gen = TrainGenerator(\n",
    "    src_path=train_path, \n",
    "    bulk_num=3, \n",
    "    sample_dur=2, sample_rate=110_000\n",
    ")\n",
    "\n",
    "print(train_gen.input_shape)\n",
    "\n",
    "model = gen_unet(input_shape=train_gen.input_shape)\n",
    "print(model.input_shape)\n"
   ]
  },
  {
   "cell_type": "code",
   "execution_count": null,
   "metadata": {},
   "outputs": [],
   "source": [
    "from U_Net import convert_pred\n",
    "\n",
    "# model = gen_unet(input_shape=train_gen.input_shape)\n",
    "\n",
    "pred_input_path = \"./temp_path/data/test_data/\"\n",
    "pred_output_path = \"./temp_path/data/pred_sample/\"\n",
    "\n",
    "convert_pred(model, pred_input_path, pred_dir=pred_output_path, pattern=\"*.wav\")"
   ]
  },
  {
   "cell_type": "code",
   "execution_count": null,
   "metadata": {},
   "outputs": [],
   "source": []
  }
 ],
 "metadata": {
  "kernelspec": {
   "display_name": "Python 3",
   "language": "python",
   "name": "python3"
  },
  "language_info": {
   "codemirror_mode": {
    "name": "ipython",
    "version": 3
   },
   "file_extension": ".py",
   "mimetype": "text/x-python",
   "name": "python",
   "nbconvert_exporter": "python",
   "pygments_lexer": "ipython3",
   "version": "3.9.16"
  },
  "orig_nbformat": 4
 },
 "nbformat": 4,
 "nbformat_minor": 2
}
